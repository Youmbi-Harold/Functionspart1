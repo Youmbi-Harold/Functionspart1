{
 "cells": [
  {
   "cell_type": "code",
   "execution_count": 6,
   "id": "cca6c65a",
   "metadata": {},
   "outputs": [
    {
     "name": "stdout",
     "output_type": "stream",
     "text": [
      "Sum from 1 to 11 is  55\n",
      "Sum from 20 to 38 is  513\n"
     ]
    }
   ],
   "source": [
    "#writing a program to count integers, 1st way without function\n",
    "sum = 0 #initialising sum to 0\n",
    "for i in range(1, 11):# starting the counter, i at 1\n",
    "    sum += i\n",
    "print(\"Sum from 1 to 11 is \", sum)\n",
    "\n",
    "sum = 0#initialising sum to 0\n",
    "for i in range(20, 38):# starting the counter, i at 1\n",
    "    sum += i\n",
    "print(\"Sum from 20 to 38 is \", sum)\n"
   ]
  },
  {
   "cell_type": "code",
   "execution_count": 5,
   "id": "72ac8995",
   "metadata": {},
   "outputs": [
    {
     "name": "stdout",
     "output_type": "stream",
     "text": [
      "Sum from 1 to 10 is  55\n",
      "Sum from 20 to 37 is  513\n"
     ]
    }
   ],
   "source": [
    "#Writing with function\n",
    "def sum(i1, i2):# setting up a function that will take two integers\n",
    "    result = 0 #initialising result to 0\n",
    "    for i in range(i1, i2+1): #setting up the counter, i to suit the range given\n",
    "        \n",
    "        result += i\n",
    "    return result #returns the final value of result\n",
    "\n",
    "def main():\n",
    "    print(\"Sum from 1 to 10 is \", sum(1,10)) #cases with inntervals used to invoke the sum function\n",
    "    print('Sum from 20 to 37 is ', sum(20, 37))\n",
    "    \n",
    "main()#call the main function\n",
    "    "
   ]
  },
  {
   "cell_type": "code",
   "execution_count": 10,
   "id": "91a6cbfd",
   "metadata": {},
   "outputs": [
    {
     "name": "stdout",
     "output_type": "stream",
     "text": [
      "Please enter the two values to be compared 15,74\n",
      "The larger number between  15 and 74 is 74 :)\n"
     ]
    }
   ],
   "source": [
    "# Writing a program that test for themaximum integer using a function\n",
    "\n",
    "def max(num1, num2):\n",
    "    if num1 > num2:\n",
    "        result = num1\n",
    "    else :\n",
    "        result = num2\n",
    "    return result\n",
    "\n",
    "def main():\n",
    "   \n",
    "    \n",
    "    a, b = eval(input('Please enter the two values to be compared '))\n",
    "    maxi = max(a, b)\n",
    "    print(\"The larger number between \", a, 'and', b ,'is', maxi, \":)\")\n",
    "\n",
    "    \n",
    "main()\n",
    "    "
   ]
  },
  {
   "cell_type": "code",
   "execution_count": null,
   "id": "fdaa5e88",
   "metadata": {},
   "outputs": [],
   "source": []
  }
 ],
 "metadata": {
  "kernelspec": {
   "display_name": "Python 3 (ipykernel)",
   "language": "python",
   "name": "python3"
  },
  "language_info": {
   "codemirror_mode": {
    "name": "ipython",
    "version": 3
   },
   "file_extension": ".py",
   "mimetype": "text/x-python",
   "name": "python",
   "nbconvert_exporter": "python",
   "pygments_lexer": "ipython3",
   "version": "3.8.5"
  }
 },
 "nbformat": 4,
 "nbformat_minor": 5
}
